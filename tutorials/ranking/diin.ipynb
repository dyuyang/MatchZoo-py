{
 "cells": [
  {
   "cell_type": "code",
   "execution_count": 1,
   "metadata": {},
   "outputs": [
    {
     "name": "stdout",
     "output_type": "stream",
     "text": [
      "matchzoo version 1.1.1\n"
     ]
    }
   ],
   "source": [
    "import torch\n",
    "import numpy as np\n",
    "import matchzoo as mz\n",
    "print('matchzoo version', mz.__version__)"
   ]
  },
  {
   "cell_type": "code",
   "execution_count": 2,
   "metadata": {},
   "outputs": [
    {
     "name": "stdout",
     "output_type": "stream",
     "text": [
      "`ranking_task` initialized with metrics [normalized_discounted_cumulative_gain@3(0.0), normalized_discounted_cumulative_gain@5(0.0), mean_average_precision(0.0)]\n"
     ]
    }
   ],
   "source": [
    "ranking_task = mz.tasks.Ranking(losses=mz.losses.RankHingeLoss(num_neg=4))\n",
    "ranking_task.metrics = [\n",
    "    mz.metrics.NormalizedDiscountedCumulativeGain(k=3),\n",
    "    mz.metrics.NormalizedDiscountedCumulativeGain(k=5),\n",
    "    mz.metrics.MeanAveragePrecision()\n",
    "]\n",
    "print(\"`ranking_task` initialized with metrics\", ranking_task.metrics)"
   ]
  },
  {
   "cell_type": "code",
   "execution_count": 3,
   "metadata": {},
   "outputs": [
    {
     "name": "stdout",
     "output_type": "stream",
     "text": [
      "data loading ...\n",
      "data loaded as `train_pack_raw` `dev_pack_raw` `test_pack_raw`\n"
     ]
    }
   ],
   "source": [
    "print('data loading ...')\n",
    "train_pack_raw = mz.datasets.wiki_qa.load_data('train', task=ranking_task)\n",
    "dev_pack_raw = mz.datasets.wiki_qa.load_data('dev', task=ranking_task, filtered=True)\n",
    "test_pack_raw = mz.datasets.wiki_qa.load_data('test', task=ranking_task, filtered=True)\n",
    "print('data loaded as `train_pack_raw` `dev_pack_raw` `test_pack_raw`')"
   ]
  },
  {
   "cell_type": "code",
   "execution_count": 4,
   "metadata": {},
   "outputs": [],
   "source": [
    "preprocessor = mz.models.DIIN.get_default_preprocessor(\n",
    "    truncated_length_left=30,\n",
    "    truncated_length_right=30,\n",
    "    ngram_size=1\n",
    ")"
   ]
  },
  {
   "cell_type": "code",
   "execution_count": 5,
   "metadata": {},
   "outputs": [
    {
     "name": "stderr",
     "output_type": "stream",
     "text": [
      "Processing text_left with chain_transform of Tokenize => Lowercase => PuncRemoval: 100%|██████████| 2118/2118 [00:00<00:00, 8619.03it/s]\n",
      "Processing text_right with chain_transform of Tokenize => Lowercase => PuncRemoval: 100%|██████████| 18841/18841 [00:04<00:00, 4657.98it/s]\n",
      "Processing text_right with append: 100%|██████████| 18841/18841 [00:00<00:00, 1001709.74it/s]\n",
      "Building FrequencyFilter from a datapack.: 100%|██████████| 18841/18841 [00:00<00:00, 128496.79it/s]\n",
      "Processing text_right with transform: 100%|██████████| 18841/18841 [00:00<00:00, 139685.58it/s]\n",
      "Processing text_left with extend: 100%|██████████| 2118/2118 [00:00<00:00, 624413.85it/s]\n",
      "Processing text_right with extend: 100%|██████████| 18841/18841 [00:00<00:00, 683683.13it/s]\n",
      "Building Vocabulary from a datapack.: 100%|██████████| 418401/418401 [00:00<00:00, 2718227.07it/s]\n",
      "Processing text_left with transform: 100%|██████████| 2118/2118 [00:00<00:00, 56274.42it/s]\n",
      "Processing text_right with transform: 100%|██████████| 18841/18841 [00:01<00:00, 15335.58it/s]\n",
      "Processing text_left with extend: 100%|██████████| 2118/2118 [00:00<00:00, 658234.73it/s]\n",
      "Processing text_right with extend: 100%|██████████| 18841/18841 [00:00<00:00, 502552.56it/s]\n",
      "Building Vocabulary from a datapack.: 100%|██████████| 2919765/2919765 [00:00<00:00, 3962844.40it/s]\n",
      "Processing text_left with chain_transform of Tokenize => Lowercase => PuncRemoval: 100%|██████████| 2118/2118 [00:00<00:00, 8879.66it/s]\n",
      "Processing text_right with chain_transform of Tokenize => Lowercase => PuncRemoval: 100%|██████████| 18841/18841 [00:04<00:00, 4523.80it/s]\n",
      "Processing text_right with transform: 100%|██████████| 18841/18841 [00:00<00:00, 144619.53it/s]\n",
      "Processing text_left with transform: 100%|██████████| 2118/2118 [00:00<00:00, 210560.22it/s]\n",
      "Processing text_right with transform: 100%|██████████| 18841/18841 [00:00<00:00, 122160.10it/s]\n",
      "Processing text_left with transform: 100%|██████████| 2118/2118 [00:00<00:00, 657893.50it/s]\n",
      "Processing text_right with transform: 100%|██████████| 18841/18841 [00:00<00:00, 475403.40it/s]\n",
      "Processing length_left with len: 100%|██████████| 2118/2118 [00:00<00:00, 568437.16it/s]\n",
      "Processing length_right with len: 100%|██████████| 18841/18841 [00:00<00:00, 739400.26it/s]\n",
      "Processing text_left with chain_transform of Tokenize => Lowercase => PuncRemoval: 100%|██████████| 122/122 [00:00<00:00, 8604.57it/s]\n",
      "Processing text_right with chain_transform of Tokenize => Lowercase => PuncRemoval: 100%|██████████| 1115/1115 [00:00<00:00, 4690.20it/s]\n",
      "Processing text_right with transform: 100%|██████████| 1115/1115 [00:00<00:00, 149199.20it/s]\n",
      "Processing text_left with transform: 100%|██████████| 122/122 [00:00<00:00, 124532.75it/s]\n",
      "Processing text_right with transform: 100%|██████████| 1115/1115 [00:00<00:00, 132832.93it/s]\n",
      "Processing text_left with transform: 100%|██████████| 122/122 [00:00<00:00, 217746.85it/s]\n",
      "Processing text_right with transform: 100%|██████████| 1115/1115 [00:00<00:00, 606569.26it/s]\n",
      "Processing length_left with len: 100%|██████████| 122/122 [00:00<00:00, 217100.16it/s]\n",
      "Processing length_right with len: 100%|██████████| 1115/1115 [00:00<00:00, 598956.07it/s]\n",
      "Processing text_left with chain_transform of Tokenize => Lowercase => PuncRemoval: 100%|██████████| 237/237 [00:00<00:00, 9087.29it/s]\n",
      "Processing text_right with chain_transform of Tokenize => Lowercase => PuncRemoval: 100%|██████████| 2300/2300 [00:00<00:00, 4643.20it/s]\n",
      "Processing text_right with transform: 100%|██████████| 2300/2300 [00:00<00:00, 136251.79it/s]\n",
      "Processing text_left with transform: 100%|██████████| 237/237 [00:00<00:00, 153521.24it/s]\n",
      "Processing text_right with transform: 100%|██████████| 2300/2300 [00:00<00:00, 116104.60it/s]\n",
      "Processing text_left with transform: 100%|██████████| 237/237 [00:00<00:00, 279698.94it/s]\n",
      "Processing text_right with transform: 100%|██████████| 2300/2300 [00:00<00:00, 655360.00it/s]\n",
      "Processing length_left with len: 100%|██████████| 237/237 [00:00<00:00, 298962.42it/s]\n",
      "Processing length_right with len: 100%|██████████| 2300/2300 [00:00<00:00, 691187.16it/s]\n"
     ]
    }
   ],
   "source": [
    "train_pack_processed = preprocessor.fit_transform(train_pack_raw)\n",
    "dev_pack_processed = preprocessor.transform(dev_pack_raw)\n",
    "test_pack_processed = preprocessor.transform(test_pack_raw)"
   ]
  },
  {
   "cell_type": "code",
   "execution_count": 6,
   "metadata": {},
   "outputs": [
    {
     "data": {
      "text/plain": [
       "{'ngram_process_unit': <matchzoo.preprocessors.units.ngram_letter.NgramLetter at 0x7eff65d292e8>,\n",
       " 'filter_unit': <matchzoo.preprocessors.units.frequency_filter.FrequencyFilter at 0x7eff66145828>,\n",
       " 'vocab_unit': <matchzoo.preprocessors.units.vocabulary.Vocabulary at 0x7eff65a961d0>,\n",
       " 'vocab_size': 30058,\n",
       " 'embedding_input_dim': 30058,\n",
       " 'ngram_vocab_unit': <matchzoo.preprocessors.units.vocabulary.Vocabulary at 0x7eff5f003358>,\n",
       " 'ngram_vocab_size': 179}"
      ]
     },
     "execution_count": 6,
     "metadata": {},
     "output_type": "execute_result"
    }
   ],
   "source": [
    "preprocessor.context"
   ]
  },
  {
   "cell_type": "code",
   "execution_count": 7,
   "metadata": {},
   "outputs": [],
   "source": [
    "glove_embedding = mz.datasets.embeddings.load_glove_embedding(dimension=100)\n",
    "term_index = preprocessor.context['vocab_unit'].state['term_index']\n",
    "embedding_matrix = glove_embedding.build_matrix(term_index)\n",
    "l2_norm = np.sqrt((embedding_matrix * embedding_matrix).sum(axis=1))\n",
    "embedding_matrix = embedding_matrix / l2_norm[:, np.newaxis]"
   ]
  },
  {
   "cell_type": "code",
   "execution_count": 8,
   "metadata": {},
   "outputs": [],
   "source": [
    "ngram_callback = mz.dataloader.callbacks.Ngram(preprocessor, mode='index')\n",
    "trainset = mz.dataloader.Dataset(\n",
    "    data_pack=train_pack_processed,\n",
    "    mode='pair',\n",
    "    num_dup=2,\n",
    "    num_neg=4,\n",
    "    batch_size=16,\n",
    "    resample=True,\n",
    "    sort=False,\n",
    "    shuffle=True,\n",
    "    callbacks=[ngram_callback]\n",
    ")\n",
    "devset = mz.dataloader.Dataset(\n",
    "    data_pack=dev_pack_processed,\n",
    "    mode='point',\n",
    "    batch_size=16,\n",
    "    resample=False,\n",
    "    sort=False,\n",
    "    shuffle=True,\n",
    "    callbacks=[ngram_callback]\n",
    ")"
   ]
  },
  {
   "cell_type": "code",
   "execution_count": 9,
   "metadata": {},
   "outputs": [],
   "source": [
    "padding_callback = mz.models.DIIN.get_default_padding_callback(\n",
    "    fixed_length_left=30,\n",
    "    fixed_length_right=30,\n",
    "    fixed_ngram_length=15,\n",
    ")\n",
    "trainloader = mz.dataloader.DataLoader(\n",
    "    dataset=trainset,\n",
    "    stage='train',\n",
    "    callback=padding_callback\n",
    ")\n",
    "devloader = mz.dataloader.DataLoader(\n",
    "    dataset=devset,\n",
    "    stage='dev',\n",
    "    callback=padding_callback\n",
    ")"
   ]
  },
  {
   "cell_type": "code",
   "execution_count": 10,
   "metadata": {},
   "outputs": [
    {
     "name": "stdout",
     "output_type": "stream",
     "text": [
      "DIIN(\n",
      "  (embedding): Embedding(30058, 100, padding_idx=0)\n",
      "  (char_embedding): CharacterEmbedding(\n",
      "    (char_embedding): Embedding(179, 8)\n",
      "    (conv): Conv1d(8, 100, kernel_size=(5,), stride=(1,))\n",
      "  )\n",
      "  (exact_maching): Matching()\n",
      "  (left_encoder): SemanticComposite(\n",
      "    (att_linear): Linear(in_features=603, out_features=1, bias=False)\n",
      "    (z_gate): Linear(in_features=402, out_features=201, bias=True)\n",
      "    (r_gate): Linear(in_features=402, out_features=201, bias=True)\n",
      "    (f_gate): Linear(in_features=402, out_features=201, bias=True)\n",
      "    (dropout): Dropout(p=0.2, inplace=False)\n",
      "  )\n",
      "  (right_encoder): SemanticComposite(\n",
      "    (att_linear): Linear(in_features=603, out_features=1, bias=False)\n",
      "    (z_gate): Linear(in_features=402, out_features=201, bias=True)\n",
      "    (r_gate): Linear(in_features=402, out_features=201, bias=True)\n",
      "    (f_gate): Linear(in_features=402, out_features=201, bias=True)\n",
      "    (dropout): Dropout(p=0.2, inplace=False)\n",
      "  )\n",
      "  (matching): Matching()\n",
      "  (conv): Conv2d(201, 60, kernel_size=(1, 1), stride=(1, 1))\n",
      "  (dense_net): DenseNet(\n",
      "    (_dense_blocks): ModuleList(\n",
      "      (0): DenseBlock(\n",
      "        (_dense_block): ModuleList(\n",
      "          (0): Sequential(\n",
      "            (0): ConstantPad2d(padding=(0, 2, 0, 2), value=0)\n",
      "            (1): Conv2d(60, 20, kernel_size=(3, 3), stride=(1, 1))\n",
      "            (2): ReLU()\n",
      "          )\n",
      "          (1): Sequential(\n",
      "            (0): ConstantPad2d(padding=(0, 2, 0, 2), value=0)\n",
      "            (1): Conv2d(80, 20, kernel_size=(3, 3), stride=(1, 1))\n",
      "            (2): ReLU()\n",
      "          )\n",
      "          (2): Sequential(\n",
      "            (0): ConstantPad2d(padding=(0, 2, 0, 2), value=0)\n",
      "            (1): Conv2d(100, 20, kernel_size=(3, 3), stride=(1, 1))\n",
      "            (2): ReLU()\n",
      "          )\n",
      "          (3): Sequential(\n",
      "            (0): ConstantPad2d(padding=(0, 2, 0, 2), value=0)\n",
      "            (1): Conv2d(120, 20, kernel_size=(3, 3), stride=(1, 1))\n",
      "            (2): ReLU()\n",
      "          )\n",
      "          (4): Sequential(\n",
      "            (0): ConstantPad2d(padding=(0, 2, 0, 2), value=0)\n",
      "            (1): Conv2d(140, 20, kernel_size=(3, 3), stride=(1, 1))\n",
      "            (2): ReLU()\n",
      "          )\n",
      "          (5): Sequential(\n",
      "            (0): ConstantPad2d(padding=(0, 2, 0, 2), value=0)\n",
      "            (1): Conv2d(160, 20, kernel_size=(3, 3), stride=(1, 1))\n",
      "            (2): ReLU()\n",
      "          )\n",
      "          (6): Sequential(\n",
      "            (0): ConstantPad2d(padding=(0, 2, 0, 2), value=0)\n",
      "            (1): Conv2d(180, 20, kernel_size=(3, 3), stride=(1, 1))\n",
      "            (2): ReLU()\n",
      "          )\n",
      "          (7): Sequential(\n",
      "            (0): ConstantPad2d(padding=(0, 2, 0, 2), value=0)\n",
      "            (1): Conv2d(200, 20, kernel_size=(3, 3), stride=(1, 1))\n",
      "            (2): ReLU()\n",
      "          )\n",
      "        )\n",
      "      )\n",
      "      (1): DenseBlock(\n",
      "        (_dense_block): ModuleList(\n",
      "          (0): Sequential(\n",
      "            (0): ConstantPad2d(padding=(0, 2, 0, 2), value=0)\n",
      "            (1): Conv2d(110, 20, kernel_size=(3, 3), stride=(1, 1))\n",
      "            (2): ReLU()\n",
      "          )\n",
      "          (1): Sequential(\n",
      "            (0): ConstantPad2d(padding=(0, 2, 0, 2), value=0)\n",
      "            (1): Conv2d(130, 20, kernel_size=(3, 3), stride=(1, 1))\n",
      "            (2): ReLU()\n",
      "          )\n",
      "          (2): Sequential(\n",
      "            (0): ConstantPad2d(padding=(0, 2, 0, 2), value=0)\n",
      "            (1): Conv2d(150, 20, kernel_size=(3, 3), stride=(1, 1))\n",
      "            (2): ReLU()\n",
      "          )\n",
      "          (3): Sequential(\n",
      "            (0): ConstantPad2d(padding=(0, 2, 0, 2), value=0)\n",
      "            (1): Conv2d(170, 20, kernel_size=(3, 3), stride=(1, 1))\n",
      "            (2): ReLU()\n",
      "          )\n",
      "          (4): Sequential(\n",
      "            (0): ConstantPad2d(padding=(0, 2, 0, 2), value=0)\n",
      "            (1): Conv2d(190, 20, kernel_size=(3, 3), stride=(1, 1))\n",
      "            (2): ReLU()\n",
      "          )\n",
      "          (5): Sequential(\n",
      "            (0): ConstantPad2d(padding=(0, 2, 0, 2), value=0)\n",
      "            (1): Conv2d(210, 20, kernel_size=(3, 3), stride=(1, 1))\n",
      "            (2): ReLU()\n",
      "          )\n",
      "          (6): Sequential(\n",
      "            (0): ConstantPad2d(padding=(0, 2, 0, 2), value=0)\n",
      "            (1): Conv2d(230, 20, kernel_size=(3, 3), stride=(1, 1))\n",
      "            (2): ReLU()\n",
      "          )\n",
      "          (7): Sequential(\n",
      "            (0): ConstantPad2d(padding=(0, 2, 0, 2), value=0)\n",
      "            (1): Conv2d(250, 20, kernel_size=(3, 3), stride=(1, 1))\n",
      "            (2): ReLU()\n",
      "          )\n",
      "        )\n",
      "      )\n",
      "      (2): DenseBlock(\n",
      "        (_dense_block): ModuleList(\n",
      "          (0): Sequential(\n",
      "            (0): ConstantPad2d(padding=(0, 2, 0, 2), value=0)\n",
      "            (1): Conv2d(135, 20, kernel_size=(3, 3), stride=(1, 1))\n",
      "            (2): ReLU()\n",
      "          )\n",
      "          (1): Sequential(\n",
      "            (0): ConstantPad2d(padding=(0, 2, 0, 2), value=0)\n",
      "            (1): Conv2d(155, 20, kernel_size=(3, 3), stride=(1, 1))\n",
      "            (2): ReLU()\n",
      "          )\n",
      "          (2): Sequential(\n",
      "            (0): ConstantPad2d(padding=(0, 2, 0, 2), value=0)\n",
      "            (1): Conv2d(175, 20, kernel_size=(3, 3), stride=(1, 1))\n",
      "            (2): ReLU()\n",
      "          )\n",
      "          (3): Sequential(\n",
      "            (0): ConstantPad2d(padding=(0, 2, 0, 2), value=0)\n",
      "            (1): Conv2d(195, 20, kernel_size=(3, 3), stride=(1, 1))\n",
      "            (2): ReLU()\n",
      "          )\n",
      "          (4): Sequential(\n",
      "            (0): ConstantPad2d(padding=(0, 2, 0, 2), value=0)\n",
      "            (1): Conv2d(215, 20, kernel_size=(3, 3), stride=(1, 1))\n",
      "            (2): ReLU()\n",
      "          )\n",
      "          (5): Sequential(\n",
      "            (0): ConstantPad2d(padding=(0, 2, 0, 2), value=0)\n",
      "            (1): Conv2d(235, 20, kernel_size=(3, 3), stride=(1, 1))\n",
      "            (2): ReLU()\n",
      "          )\n",
      "          (6): Sequential(\n",
      "            (0): ConstantPad2d(padding=(0, 2, 0, 2), value=0)\n",
      "            (1): Conv2d(255, 20, kernel_size=(3, 3), stride=(1, 1))\n",
      "            (2): ReLU()\n",
      "          )\n",
      "          (7): Sequential(\n",
      "            (0): ConstantPad2d(padding=(0, 2, 0, 2), value=0)\n",
      "            (1): Conv2d(275, 20, kernel_size=(3, 3), stride=(1, 1))\n",
      "            (2): ReLU()\n",
      "          )\n",
      "        )\n",
      "      )\n",
      "    )\n",
      "    (_transition_blocks): ModuleList(\n",
      "      (0): Sequential(\n",
      "        (0): Conv2d(220, 110, kernel_size=(1, 1), stride=(1, 1))\n",
      "        (1): MaxPool2d(kernel_size=(2, 2), stride=(2, 2), padding=0, dilation=1, ceil_mode=False)\n",
      "      )\n",
      "      (1): Sequential(\n",
      "        (0): Conv2d(270, 135, kernel_size=(1, 1), stride=(1, 1))\n",
      "        (1): MaxPool2d(kernel_size=(2, 2), stride=(2, 2), padding=0, dilation=1, ceil_mode=False)\n",
      "      )\n",
      "      (2): Sequential(\n",
      "        (0): Conv2d(295, 147, kernel_size=(1, 1), stride=(1, 1))\n",
      "        (1): MaxPool2d(kernel_size=(2, 2), stride=(2, 2), padding=0, dilation=1, ceil_mode=False)\n",
      "      )\n",
      "    )\n",
      "  )\n",
      "  (max_pooling): AdaptiveMaxPool2d(output_size=(1, 1))\n",
      "  (out_layer): Linear(in_features=147, out_features=1, bias=True)\n",
      "  (dropout): Dropout(p=0.2, inplace=False)\n",
      ")\n",
      "Trainable params:  4357311\n"
     ]
    }
   ],
   "source": [
    "model = mz.models.DIIN()\n",
    "\n",
    "model.params['task'] = ranking_task\n",
    "model.params['embedding'] = embedding_matrix\n",
    "model.params['mask_value'] = 0\n",
    "model.params['char_embedding_input_dim'] = preprocessor.context['ngram_vocab_size']\n",
    "model.params['char_embedding_output_dim'] = 8\n",
    "model.params['char_conv_filters'] = 100\n",
    "model.params['char_conv_kernel_size'] = 5\n",
    "model.params['first_scale_down_ratio'] = 0.3\n",
    "model.params['nb_dense_blocks'] = 3\n",
    "model.params['layers_per_dense_block'] = 8\n",
    "model.params['growth_rate'] = 20\n",
    "model.params['transition_scale_down_ratio'] = 0.5\n",
    "model.params['conv_kernel_size'] = (3, 3)\n",
    "model.params['pool_kernel_size'] = (2, 2)\n",
    "model.params['dropout_rate'] = 0.2\n",
    "\n",
    "model.build()\n",
    "\n",
    "print(model)\n",
    "print('Trainable params: ', sum(p.numel() for p in model.parameters() if p.requires_grad))"
   ]
  },
  {
   "cell_type": "code",
   "execution_count": 11,
   "metadata": {},
   "outputs": [],
   "source": [
    "optimizer = torch.optim.Adam(model.parameters())\n",
    "trainer = mz.trainers.Trainer(\n",
    "    model=model,\n",
    "    optimizer=optimizer,\n",
    "    trainloader=trainloader,\n",
    "    validloader=devloader,\n",
    "    validate_interval=None,\n",
    "    epochs=10\n",
    ")"
   ]
  },
  {
   "cell_type": "code",
   "execution_count": 12,
   "metadata": {},
   "outputs": [
    {
     "data": {
      "application/vnd.jupyter.widget-view+json": {
       "model_id": "89d6de0cb6f745a790df92722802585c",
       "version_major": 2,
       "version_minor": 0
      },
      "text/plain": [
       "HBox(children=(IntProgress(value=0, max=128), HTML(value='')))"
      ]
     },
     "metadata": {},
     "output_type": "display_data"
    },
    {
     "name": "stdout",
     "output_type": "stream",
     "text": [
      "[Iter-128 Loss-0.648]:\n",
      "  Validation: normalized_discounted_cumulative_gain@3(0.0): 0.6077 - normalized_discounted_cumulative_gain@5(0.0): 0.6684 - mean_average_precision(0.0): 0.6249\n",
      "\n"
     ]
    },
    {
     "data": {
      "application/vnd.jupyter.widget-view+json": {
       "model_id": "3d75a8239236415ea1c035975dca0d0c",
       "version_major": 2,
       "version_minor": 0
      },
      "text/plain": [
       "HBox(children=(IntProgress(value=0, max=128), HTML(value='')))"
      ]
     },
     "metadata": {},
     "output_type": "display_data"
    },
    {
     "name": "stdout",
     "output_type": "stream",
     "text": [
      "[Iter-256 Loss-0.270]:\n",
      "  Validation: normalized_discounted_cumulative_gain@3(0.0): 0.6093 - normalized_discounted_cumulative_gain@5(0.0): 0.6486 - mean_average_precision(0.0): 0.6037\n",
      "\n"
     ]
    },
    {
     "data": {
      "application/vnd.jupyter.widget-view+json": {
       "model_id": "ea2532f2ee6447e7b40a62de28e22b52",
       "version_major": 2,
       "version_minor": 0
      },
      "text/plain": [
       "HBox(children=(IntProgress(value=0, max=128), HTML(value='')))"
      ]
     },
     "metadata": {},
     "output_type": "display_data"
    },
    {
     "name": "stdout",
     "output_type": "stream",
     "text": [
      "[Iter-384 Loss-0.092]:\n",
      "  Validation: normalized_discounted_cumulative_gain@3(0.0): 0.6225 - normalized_discounted_cumulative_gain@5(0.0): 0.6744 - mean_average_precision(0.0): 0.6305\n",
      "\n"
     ]
    },
    {
     "data": {
      "application/vnd.jupyter.widget-view+json": {
       "model_id": "a48860e22d37434f897e8e95b3452959",
       "version_major": 2,
       "version_minor": 0
      },
      "text/plain": [
       "HBox(children=(IntProgress(value=0, max=128), HTML(value='')))"
      ]
     },
     "metadata": {},
     "output_type": "display_data"
    },
    {
     "name": "stdout",
     "output_type": "stream",
     "text": [
      "[Iter-512 Loss-0.052]:\n",
      "  Validation: normalized_discounted_cumulative_gain@3(0.0): 0.6191 - normalized_discounted_cumulative_gain@5(0.0): 0.6693 - mean_average_precision(0.0): 0.6248\n",
      "\n"
     ]
    },
    {
     "data": {
      "application/vnd.jupyter.widget-view+json": {
       "model_id": "e758bad67f1a4f0c85177b5511e02bd7",
       "version_major": 2,
       "version_minor": 0
      },
      "text/plain": [
       "HBox(children=(IntProgress(value=0, max=128), HTML(value='')))"
      ]
     },
     "metadata": {},
     "output_type": "display_data"
    },
    {
     "name": "stdout",
     "output_type": "stream",
     "text": [
      "[Iter-640 Loss-0.029]:\n",
      "  Validation: normalized_discounted_cumulative_gain@3(0.0): 0.6043 - normalized_discounted_cumulative_gain@5(0.0): 0.6665 - mean_average_precision(0.0): 0.6234\n",
      "\n"
     ]
    },
    {
     "data": {
      "application/vnd.jupyter.widget-view+json": {
       "model_id": "7fcefa217b8b46128d7ad4a9a5f41ae4",
       "version_major": 2,
       "version_minor": 0
      },
      "text/plain": [
       "HBox(children=(IntProgress(value=0, max=128), HTML(value='')))"
      ]
     },
     "metadata": {},
     "output_type": "display_data"
    },
    {
     "name": "stdout",
     "output_type": "stream",
     "text": [
      "[Iter-768 Loss-0.018]:\n",
      "  Validation: normalized_discounted_cumulative_gain@3(0.0): 0.6072 - normalized_discounted_cumulative_gain@5(0.0): 0.6685 - mean_average_precision(0.0): 0.6149\n",
      "\n"
     ]
    },
    {
     "data": {
      "application/vnd.jupyter.widget-view+json": {
       "model_id": "4d7644dd9cda46189026e82d80790c5d",
       "version_major": 2,
       "version_minor": 0
      },
      "text/plain": [
       "HBox(children=(IntProgress(value=0, max=128), HTML(value='')))"
      ]
     },
     "metadata": {},
     "output_type": "display_data"
    },
    {
     "name": "stdout",
     "output_type": "stream",
     "text": [
      "[Iter-896 Loss-0.016]:\n",
      "  Validation: normalized_discounted_cumulative_gain@3(0.0): 0.6044 - normalized_discounted_cumulative_gain@5(0.0): 0.6586 - mean_average_precision(0.0): 0.6217\n",
      "\n"
     ]
    },
    {
     "data": {
      "application/vnd.jupyter.widget-view+json": {
       "model_id": "0f2965403a81424ca3343e8782edfc6c",
       "version_major": 2,
       "version_minor": 0
      },
      "text/plain": [
       "HBox(children=(IntProgress(value=0, max=128), HTML(value='')))"
      ]
     },
     "metadata": {},
     "output_type": "display_data"
    },
    {
     "name": "stdout",
     "output_type": "stream",
     "text": [
      "[Iter-1024 Loss-0.009]:\n",
      "  Validation: normalized_discounted_cumulative_gain@3(0.0): 0.5738 - normalized_discounted_cumulative_gain@5(0.0): 0.6371 - mean_average_precision(0.0): 0.5924\n",
      "\n"
     ]
    },
    {
     "data": {
      "application/vnd.jupyter.widget-view+json": {
       "model_id": "e01e308a6c1d4f1e9c8a6838035af139",
       "version_major": 2,
       "version_minor": 0
      },
      "text/plain": [
       "HBox(children=(IntProgress(value=0, max=128), HTML(value='')))"
      ]
     },
     "metadata": {},
     "output_type": "display_data"
    },
    {
     "name": "stdout",
     "output_type": "stream",
     "text": [
      "[Iter-1152 Loss-0.009]:\n",
      "  Validation: normalized_discounted_cumulative_gain@3(0.0): 0.6089 - normalized_discounted_cumulative_gain@5(0.0): 0.674 - mean_average_precision(0.0): 0.6288\n",
      "\n"
     ]
    },
    {
     "data": {
      "application/vnd.jupyter.widget-view+json": {
       "model_id": "de3799a133c04ed6b2b8a5b623f5b7a6",
       "version_major": 2,
       "version_minor": 0
      },
      "text/plain": [
       "HBox(children=(IntProgress(value=0, max=128), HTML(value='')))"
      ]
     },
     "metadata": {},
     "output_type": "display_data"
    },
    {
     "name": "stdout",
     "output_type": "stream",
     "text": [
      "[Iter-1280 Loss-0.014]:\n",
      "  Validation: normalized_discounted_cumulative_gain@3(0.0): 0.6299 - normalized_discounted_cumulative_gain@5(0.0): 0.6822 - mean_average_precision(0.0): 0.6427\n",
      "\n",
      "Cost time: 1179.0480372905731s\n"
     ]
    }
   ],
   "source": [
    "trainer.run()"
   ]
  }
 ],
 "metadata": {
  "kernelspec": {
   "display_name": "Python 3",
   "language": "python",
   "name": "python3"
  },
  "language_info": {
   "codemirror_mode": {
    "name": "ipython",
    "version": 3
   },
   "file_extension": ".py",
   "mimetype": "text/x-python",
   "name": "python",
   "nbconvert_exporter": "python",
   "pygments_lexer": "ipython3",
   "version": "3.6.9"
  }
 },
 "nbformat": 4,
 "nbformat_minor": 2
}
